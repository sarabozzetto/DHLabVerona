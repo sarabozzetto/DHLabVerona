{
  "nbformat": 4,
  "nbformat_minor": 0,
  "metadata": {
    "colab": {
      "name": "Twitter_API_demo.ipynb",
      "provenance": [],
      "collapsed_sections": []
    },
    "kernelspec": {
      "name": "python3",
      "display_name": "Python 3"
    },
    "language_info": {
      "name": "python"
    }
  },
  "cells": [
    {
      "cell_type": "markdown",
      "source": [
        "## 0. Preparation\n",
        "\n",
        "You have to move the API keys (in a .csv file) into the working folder (use the panel on the left) "
      ],
      "metadata": {
        "id": "chEt2JOIePz0"
      }
    },
    {
      "cell_type": "markdown",
      "source": [
        "## 1. TwitterAPI package"
      ],
      "metadata": {
        "id": "fFbkpE-5grPF"
      }
    },
    {
      "cell_type": "code",
      "source": [
        "!pip install TwitterAPI"
      ],
      "metadata": {
        "id": "i1-vZSmvDUbc"
      },
      "execution_count": null,
      "outputs": []
    },
    {
      "cell_type": "code",
      "source": [
        "from TwitterAPI import TwitterAPI\n",
        "import pandas as pd"
      ],
      "metadata": {
        "id": "3pDzUzvpDFgJ"
      },
      "execution_count": null,
      "outputs": []
    },
    {
      "cell_type": "code",
      "execution_count": null,
      "metadata": {
        "id": "mlaQIUX8DCk0"
      },
      "outputs": [],
      "source": [
        "my_keys = pd.read_csv('TwitterAPIKeys.csv')\n",
        "\n",
        "consumer_key = my_keys.iloc[0][1]\n",
        "consumer_secret = my_keys.iloc[1][1]"
      ]
    },
    {
      "cell_type": "code",
      "source": [
        "api = TwitterAPI(consumer_key,\n",
        "                 consumer_secret,\n",
        "                 api_version='2', \n",
        "                 auth_type='oAuth2')"
      ],
      "metadata": {
        "id": "eqUhd6wbfDvZ"
      },
      "execution_count": null,
      "outputs": []
    },
    {
      "cell_type": "code",
      "source": [
        "r = api.request('tweets/search/recent', {\n",
        "        'query':'pizza',\n",
        "        'tweet.fields':'author_id',\n",
        "        'tweet.fields':'created_at',\n",
        "        'expansions':'author_id',\n",
        "        'max_results':100})\n",
        "for item in r:\n",
        "        print(item)"
      ],
      "metadata": {
        "id": "4QoAHKeVDtXg"
      },
      "execution_count": null,
      "outputs": []
    },
    {
      "cell_type": "markdown",
      "source": [
        "More details on the query arguments: https://developer.twitter.com/en/docs/twitter-api/tweets/search/api-reference/get-tweets-search-recent"
      ],
      "metadata": {
        "id": "VuXuHCqpgVxd"
      }
    },
    {
      "cell_type": "markdown",
      "source": [
        "## 2. TWARC"
      ],
      "metadata": {
        "id": "g_KEJrNtguSj"
      }
    },
    {
      "cell_type": "code",
      "source": [
        "!pip install twarc\n",
        "!pip3 install --upgrade twarc-csv"
      ],
      "metadata": {
        "id": "LgFZiH0Ag1S9"
      },
      "execution_count": null,
      "outputs": []
    },
    {
      "cell_type": "markdown",
      "source": [
        "...then you will have to configure TWARC2 (version 2.0).  \n",
        "Run the cell, then add (manually) the \"Bearer Token\" (you find it in the csv file)  \n",
        "Then just select (n), i.e. no additional authentication methods \n",
        "Finally, please delete the output cell (because in it the BearerToken will be printed)"
      ],
      "metadata": {
        "id": "v14UDk41g7cj"
      }
    },
    {
      "cell_type": "code",
      "source": [
        "!twarc2 configure"
      ],
      "metadata": {
        "id": "RGvJ0sTng6ka"
      },
      "execution_count": null,
      "outputs": []
    },
    {
      "cell_type": "code",
      "source": [
        "!twarc2 search --limit 100 \"blacklivesmatter\" results.jsonl"
      ],
      "metadata": {
        "id": "iGIlr4IuhrE_"
      },
      "execution_count": null,
      "outputs": []
    },
    {
      "cell_type": "markdown",
      "source": [
        "More info on query arguments: https://twarc-project.readthedocs.io/en/latest/twarc2_en_us/"
      ],
      "metadata": {
        "id": "-8voi2-5jrab"
      }
    },
    {
      "cell_type": "code",
      "source": [
        "# convert the json into csv (friendlier for pandas)\n",
        "\n",
        "!twarc2 csv results.jsonl tweets.csv"
      ],
      "metadata": {
        "id": "ZQaf7Gm-h0oT"
      },
      "execution_count": null,
      "outputs": []
    },
    {
      "cell_type": "code",
      "source": [
        "# read the csv and explore it\n",
        "\n",
        "df = pd.read_csv('tweets.csv')\n",
        "df.head()"
      ],
      "metadata": {
        "id": "iRT80h-ciHmH"
      },
      "execution_count": null,
      "outputs": []
    },
    {
      "cell_type": "code",
      "source": [
        "for item in df.text:\n",
        "  print(item)"
      ],
      "metadata": {
        "id": "0Rn7VOMsiNZD"
      },
      "execution_count": null,
      "outputs": []
    },
    {
      "cell_type": "code",
      "source": [
        "for item in df.lang:\n",
        "  print(item)"
      ],
      "metadata": {
        "id": "IcDCkvCsiRd9"
      },
      "execution_count": null,
      "outputs": []
    }
  ]
}