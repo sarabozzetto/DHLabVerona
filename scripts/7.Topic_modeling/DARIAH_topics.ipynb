{
  "nbformat": 4,
  "nbformat_minor": 0,
  "metadata": {
    "colab": {
      "name": "DARIAH_topics",
      "provenance": []
    },
    "kernelspec": {
      "name": "python3",
      "display_name": "Python 3"
    },
    "language_info": {
      "name": "python"
    }
  },
  "cells": [
    {
      "cell_type": "markdown",
      "source": [
        "# Topic Modeling with DARIAH topics\n",
        "\n",
        "We use this python library to do topic modeling on the AO3 corpus: https://dariah-de.github.io/Topics/  \n",
        "Issue: the library is designed to work with simple .txt files, while we have an R environment.  \n",
        "We need to convert the R environment into .txt files: this can be done directly via Python!"
      ],
      "metadata": {
        "id": "Naf-ZiSM4K0j"
      }
    },
    {
      "cell_type": "markdown",
      "source": [
        "## 1. Preparation\n",
        "Install and call the libraries"
      ],
      "metadata": {
        "id": "QYwOEi9C4tFS"
      }
    },
    {
      "cell_type": "code",
      "execution_count": null,
      "metadata": {
        "id": "hzA3a4jOjxB6"
      },
      "outputs": [],
      "source": [
        "!pip install dariah\n",
        "!pip install pyreadr\n",
        "!pip install langdetect"
      ]
    },
    {
      "cell_type": "code",
      "source": [
        "import dariah\n",
        "import pyreadr\n",
        "from langdetect import detect\n",
        "\n",
        "import re\n",
        "import seaborn as sns\n",
        "import matplotlib.pyplot as plt"
      ],
      "metadata": {
        "id": "_aQqq_fSlbcH"
      },
      "execution_count": null,
      "outputs": []
    },
    {
      "cell_type": "markdown",
      "source": [
        "## 2. Corpus loading\n",
        "\n",
        "Load the corpus from the R environment.  \n",
        "**Note:** you will have to upload the \"AO3_corpus.RData\" file in the \"Files\" panel on the left."
      ],
      "metadata": {
        "id": "S_yAyurz4zHD"
      }
    },
    {
      "cell_type": "code",
      "source": [
        "result = pyreadr.read_r('AO3_corpus.RData')\n",
        "print(result.keys()) "
      ],
      "metadata": {
        "id": "9PH6mKJ_lfsy"
      },
      "execution_count": null,
      "outputs": []
    },
    {
      "cell_type": "code",
      "source": [
        "my_df = result[\"my_df\"]\n",
        "all_texts = result[\"all_texts\"][\"all_texts\"] # this is to have a vector, not a dataframe"
      ],
      "metadata": {
        "id": "BYHmSRznmBPa"
      },
      "execution_count": null,
      "outputs": []
    },
    {
      "cell_type": "markdown",
      "source": [
        "## 3. Corpus cleaning\n",
        "Remove texts that are too short or not in English.  \n",
        "**Note:** this are the same operations already done for stylometry in R"
      ],
      "metadata": {
        "id": "aVcrOIUh5Oh9"
      }
    },
    {
      "cell_type": "code",
      "source": [
        "# create unique ids\n",
        "my_df[\"ID\"] = my_df.index.values\n",
        "# drop short text\n",
        "my_df = my_df.drop(my_df[my_df.length < 1000].index)\n",
        "# recognize language\n",
        "my_df[\"lang\"] = [detect(x) for x in my_df[\"incipit\"]]\n",
        "# remove non-English texts\n",
        "my_df = my_df.drop(my_df[my_df.lang != 'en'].index)\n",
        "# visualize\n",
        "my_df.head()"
      ],
      "metadata": {
        "id": "_kNqAKfmngA0"
      },
      "execution_count": null,
      "outputs": []
    },
    {
      "cell_type": "markdown",
      "source": [
        "## 4. Corpus creation\n",
        "\n",
        "Now everything is ready to create the corpus as \".txt\" files"
      ],
      "metadata": {
        "id": "YrqzhDKX5z33"
      }
    },
    {
      "cell_type": "code",
      "source": [
        "# create new directory\n",
        "!mkdir corpus\n",
        "\n",
        "# loop on metadata (my_df) to write texts (all_texts)\n",
        "for i in my_df[\"ID\"]:\n",
        "  \n",
        "  # define filename\n",
        "  author = re.sub(r'\\W+', '', str(my_df.loc[i,'author']))\n",
        "  title = re.sub(r'\\W+', '', str(my_df.loc[i,'title']))  \n",
        "  filename = 'corpus/'+author+'_'+title+'.txt'\n",
        "  \n",
        "  # write file\n",
        "  text_file = open(filename, 'w')\n",
        "  n = text_file.write(all_texts[i])\n",
        "  text_file.close()"
      ],
      "metadata": {
        "id": "1l5hN4Eyrv82"
      },
      "execution_count": null,
      "outputs": []
    },
    {
      "cell_type": "markdown",
      "source": [
        "## 5. Topic modeling\n",
        "\n",
        "The training can start! (it might take a few minutes)"
      ],
      "metadata": {
        "id": "lnnNg7AU6J0V"
      }
    },
    {
      "cell_type": "code",
      "source": [
        "model, vis = dariah.topics(directory=\"corpus\",\n",
        "               stopwords=100,\n",
        "               num_topics=10,\n",
        "               num_iterations=1000)"
      ],
      "metadata": {
        "id": "5hsl0Fnsv2Vj"
      },
      "execution_count": null,
      "outputs": []
    },
    {
      "cell_type": "markdown",
      "source": [
        "## 6. Results\n",
        "\n",
        "Visualize the results (as tables and plots)"
      ],
      "metadata": {
        "id": "Avrs-OL96S_M"
      }
    },
    {
      "cell_type": "code",
      "source": [
        "# table with all values\n",
        "\n",
        "model.topic_document.head()"
      ],
      "metadata": {
        "id": "8GQIoJrywjD4"
      },
      "execution_count": null,
      "outputs": []
    },
    {
      "cell_type": "code",
      "source": [
        "# see topic/document heatmap\n",
        "\n",
        "%matplotlib inline\n",
        "vis.topic_document()"
      ],
      "metadata": {
        "id": "FlQM0WLvy7Bb"
      },
      "execution_count": null,
      "outputs": []
    },
    {
      "cell_type": "code",
      "source": [
        "# the plot might not be that good\n",
        "# better use the seaborn package directly, instead of dariah's functions\n",
        "\n",
        "plt.figure(figsize=(50,50))\n",
        "sns.heatmap(model.topic_document, cmap=\"Blues\")\n",
        "plt.show()"
      ],
      "metadata": {
        "id": "Oft5ywm73I63"
      },
      "execution_count": null,
      "outputs": []
    },
    {
      "cell_type": "code",
      "source": [
        "# see the words that compose the topics\n",
        "vis.topic(\"topic0\")"
      ],
      "metadata": {
        "id": "cH8jvr9_zuhb"
      },
      "execution_count": null,
      "outputs": []
    },
    {
      "cell_type": "code",
      "source": [
        "# see topics in a document\n",
        "vis.document(\"ocean_eyes_221_ChasingShadows\")"
      ],
      "metadata": {
        "id": "a1JWXeSmzd8b"
      },
      "execution_count": null,
      "outputs": []
    }
  ]
}